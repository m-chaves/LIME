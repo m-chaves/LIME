{
 "cells": [
  {
   "cell_type": "code",
   "execution_count": 9,
   "metadata": {},
   "outputs": [],
   "source": [
    "from PIL import Image\n",
    "from tensorflow.keras.preprocessing.image import load_img, img_to_array\n",
    "from tensorflow.keras.applications import inception_v3\n",
    "import tensorflow as tf \n",
    "from keras.applications.imagenet_utils import decode_predictions\n",
    "from sklearn.metrics.pairwise import pairwise_distances\n",
    "from sklearn.linear_model import Ridge\n",
    "import matplotlib\n",
    "import matplotlib.pyplot as plt\n",
    "import numpy as np\n",
    "import cv2\n",
    "import pandas as pd\n",
    "from tqdm.auto import tqdm\n",
    "import pickle\n",
    "from copy import deepcopy\n",
    "from scipy.spatial import distance_matrix\n",
    "import functools\n",
    "import operator\n",
    "from itertools import groupby\n",
    "from lime.wrappers.scikit_image import SegmentationAlgorithm\n",
    "from lime import lime_image\n",
    "import os\n",
    "import sys\n",
    "import random\n",
    "from sklearn import metrics\n",
    "import matplotlib\n",
    "matplotlib.rcParams['pdf.fonttype'] = 42\n",
    "matplotlib.rcParams['ps.fonttype'] = 42"
   ]
  }
 ],
 "metadata": {
  "kernelspec": {
   "display_name": "env",
   "language": "python",
   "name": "python3"
  },
  "language_info": {
   "codemirror_mode": {
    "name": "ipython",
    "version": 3
   },
   "file_extension": ".py",
   "mimetype": "text/x-python",
   "name": "python",
   "nbconvert_exporter": "python",
   "pygments_lexer": "ipython3",
   "version": "3.8.8"
  },
  "orig_nbformat": 4
 },
 "nbformat": 4,
 "nbformat_minor": 2
}
